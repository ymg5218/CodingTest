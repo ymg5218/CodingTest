{
 "cells": [
  {
   "cell_type": "code",
   "execution_count": 4,
   "id": "5a09726a-47d2-471a-a2fa-d10c0613b3ac",
   "metadata": {},
   "outputs": [
    {
     "name": "stdout",
     "output_type": "stream",
     "text": [
      "이름 : 염민규, 나이 : 26\n"
     ]
    }
   ],
   "source": [
    "class Me:\n",
    "    def __init__(self, n, a):\n",
    "        self.name = n\n",
    "        self.age = a\n",
    "\n",
    "    def show(self):\n",
    "        print(f'이름 : {self.name}, 나이 : {self.age}')\n",
    "\n",
    "if __name__ == \"__main__\":\n",
    "    my = Me(\"염민규\", 26)\n",
    "    my.show()"
   ]
  },
  {
   "cell_type": "code",
   "execution_count": 7,
   "id": "1f29dabe-652e-4b3d-9ab6-761a54d617b0",
   "metadata": {},
   "outputs": [
    {
     "name": "stdout",
     "output_type": "stream",
     "text": [
      "1 1 2 3 5 "
     ]
    }
   ],
   "source": [
    "def fibo(n):\n",
    "    a, b = 0, 1\n",
    "    while b < n:\n",
    "        print(b, end = ' ')\n",
    "        a, b = b, a + b\n",
    "\n",
    "fibo(8)"
   ]
  },
  {
   "cell_type": "code",
   "execution_count": 12,
   "id": "74205274-41b9-4136-89a3-78031b54dbd3",
   "metadata": {},
   "outputs": [
    {
     "name": "stdout",
     "output_type": "stream",
     "text": [
      "1 1 2 3 5\n"
     ]
    }
   ],
   "source": [
    "def fibo(n):\n",
    "    a, b = 0, 1\n",
    "    result = []\n",
    "    while b < n:\n",
    "        result.append(b)\n",
    "        a, b = b, a + b\n",
    "    return result\n",
    "\n",
    "print(*fibo(8))"
   ]
  },
  {
   "cell_type": "code",
   "execution_count": 21,
   "id": "c558339c-4662-4d8f-83a4-72966764d550",
   "metadata": {},
   "outputs": [
    {
     "name": "stdout",
     "output_type": "stream",
     "text": [
      "이\n"
     ]
    }
   ],
   "source": [
    "dict = {\n",
    "    \"김\" : 1,\n",
    "    \"이\" : 5,\n",
    "    \"홍\" : 2,\n",
    "    \"염\" : 0\n",
    "}\n",
    "\n",
    "print(max(dict, key = dict.get))"
   ]
  },
  {
   "cell_type": "code",
   "execution_count": null,
   "id": "cb7a5812-24da-479b-8c4a-1537a16ced89",
   "metadata": {},
   "outputs": [],
   "source": []
  }
 ],
 "metadata": {
  "kernelspec": {
   "display_name": "Python 3 (ipykernel)",
   "language": "python",
   "name": "python3"
  },
  "language_info": {
   "codemirror_mode": {
    "name": "ipython",
    "version": 3
   },
   "file_extension": ".py",
   "mimetype": "text/x-python",
   "name": "python",
   "nbconvert_exporter": "python",
   "pygments_lexer": "ipython3",
   "version": "3.12.4"
  }
 },
 "nbformat": 4,
 "nbformat_minor": 5
}
