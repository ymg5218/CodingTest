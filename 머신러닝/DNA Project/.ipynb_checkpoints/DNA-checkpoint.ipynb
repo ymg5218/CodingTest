{
 "cells": [
  {
   "cell_type": "code",
   "execution_count": 6,
   "id": "d3a54ca4-1d11-46f6-b251-799f771223fc",
   "metadata": {},
   "outputs": [
    {
     "name": "stdout",
     "output_type": "stream",
     "text": [
      "GGTCAGAAAAAGCCCTCTCCATGTCTACTCACGATACATCCCTGAAAACCACTGAGGAAGTGGCTTTTCAGATCATCTTGCTTTGCCAGTTTGGGGTTGGGACTTTTGCCAATGTATTTCTCTTTGTCTATAATTTCTCTCCAATCTCGACTGGTTCTAAACAGAGGCCCAGACAAGTGATTTTAAGACACATGGCTGTGGCCAATGCCTTAACTCTCTTCCTCACTATATTTCCAAACAACATGATGACTTTTGCTCCAATTATTCCTCAAACTGACCTCAAATGTAAATTAGAATTCTTCACTCGCCTCGTGGCAAGAAGCACAAACTTGTGTTCAACTTGTGTTCTGAGTATCCATCAGTTTGTCACACTTGTTCCTGTTAATTCAGGTAAAGGAATACTCAGAGCAAGTGTCACAAACATGGCAAGTTATTCTTGTTACAGTTGTTGGTTCTTCAGTGTCTTAAATAACATCTACATTCCAATTAAGGTCACTGGTCCACAGTTAACAGACAATAACAATAACTCTAAAAGCAAGTTGTTCTGTTCCACTTCTGATTTCAGTGTAGGCATTGTCTTCTTGAGGTTTGCCCATGATGCCACATTCATGAGCATCATGGTCTGGACCAGTGTCTCCATGGTACTTCTCCTCCATAGACATTGTCAGAGAATGCAGTACATATTCACTCTCAATCAGGACCCCAGGGGCCAAGCAGAGACCACAGCAACCCATACTATCCTGATGCTGGTAGTCACATTTGTTGGCTTTTATCTTCTAAGTCTTATTTGTATCATCTTTTACACCTATTTTATATATTCTCATCATTCCCTGAGGCATTGCAATGACATTTTGGTTTCGGGTTTCCCTACAATTTCTCCTTTACTGTTGACCTTCAGAGACCCTAAGGGTCCTTGTTCTGTGTTCTTCAACTGTTGAAAGCCAGAGTCACTAAAAATGCCAAACACAGAAGACAGCTTTGCTAATACCATTAAATACTTTATTCCATAAATATGTTTTTAAAAGCTTGTATGAACAAGGTATGGTGCTCACTGCTATACTTATAAAAGAGTAAGGTTATAATCACTTGTTGATATGAAAAGATTTCTGGTTGGAATCTGATTGAAACAGTGAGTTATTCACCACCCTCCATTCTCT\n"
     ]
    }
   ],
   "source": [
    "with open(\"./NM_207618.2.fna\", \"r\") as inf:\n",
    "    data = inf.read().splitlines(True)\n",
    "\n",
    "with open('dnal.txt', 'w') as outf:\n",
    "    outf.writelines(data[1:])\n",
    "\n",
    "f = open(\"dnal.txt\", \"r\")\n",
    "\n",
    "seq = f.read().replace('\\n', '').replace('\\r', '').replace(' ','')\n",
    "print(seq)"
   ]
  },
  {
   "cell_type": "code",
   "execution_count": 7,
   "id": "914d72e3-0883-41ad-aa0b-d3c87e787bea",
   "metadata": {},
   "outputs": [
    {
     "name": "stdout",
     "output_type": "stream",
     "text": [
      "Y\n"
     ]
    }
   ],
   "source": [
    "genetic_code = {\n",
    "    'ATA' : 'I', 'ATC' : 'I', 'ATT' : 'I', 'ATG' : 'M',\n",
    "    'ACA' : 'T', 'ACC' : 'T', 'ACG' : 'T', 'ACT' : 'T',\n",
    "    'AAC' : 'N', 'AAT' : 'N', 'AAA' : 'K', 'AAG' : 'K',\n",
    "    'AGC' : 'S', 'AGT' : 'S', 'AGA' : 'R', 'AGG' : 'R',\n",
    "    'CTA' : 'L', 'CTC' : 'L', 'CTG' : 'L', 'CTT' : 'L',\n",
    "    'CCA' : 'P', 'CCC' : 'P', 'CCG' : 'P', 'CCT' : 'P',\n",
    "    'CAC' : 'H', 'CAT' : 'H', 'CAA' : 'Q', 'CAG' : 'Q',\n",
    "    'CGA' : 'R', 'CGC' : 'R', 'CGG' : 'R', 'CGT' : 'R',\n",
    "    'GTA' : 'V', 'GTC' : 'V', 'GTG' : 'V', 'GTT' : 'V',\n",
    "    'GAC' : 'D', 'GAT' : 'D', 'GAA' : 'E', 'GAG' : 'E',\n",
    "    'TCA' : 'S', 'TCC' : 'S', 'TCG' : 'S', 'TCT' : 'S',\n",
    "    'TTC' : 'F', 'TTT' : 'F', 'TTA' : 'L', 'TTG' : 'L',\n",
    "    'TAC' : 'Y', 'TAT' : 'Y', 'TAA' : '_', 'TAG' : '_',\n",
    "    'TGC' : 'C', 'TGT' : 'C', 'TGA' : '_', 'TGG' : 'W'\n",
    "}\n",
    "\n",
    "print(genetic_code['TAC'])"
   ]
  },
  {
   "cell_type": "code",
   "execution_count": 10,
   "id": "dd1c445e-e41c-430a-9408-c0c117a92dfb",
   "metadata": {},
   "outputs": [
    {
     "name": "stdout",
     "output_type": "stream",
     "text": [
      "MSTHDTSLKTTEEVAFQIILLCQFGVGTFANVFLFVYNFSPISTGSKQRPRQVILRHMAVANALTLFLTIFPNNMMTFAPIIPQTDLKCKLEFFTRLVARSTNLCSTCVLSIHQFVTLVPVNSGKGILRASVTNMASYSCYSCWFFSVLNNIYIPIKVTGPQLTDNNNNSKSKLFCSTSDFSVGIVFLRFAHDATFMSIMVWTSVSMVLLLHRHCQRMQYIFTLNQDPRGQAETTATHTILMLVVTFVGFYLLSLICIIFYTYFIYSHHSLRHCNDILVSGFPTISPLLLTFRDPKGPCSVFFNC\n"
     ]
    }
   ],
   "source": [
    "def convert(seq):\n",
    "    genetic_code = {\n",
    "    'ATA' : 'I', 'ATC' : 'I', 'ATT' : 'I', 'ATG' : 'M',\n",
    "    'ACA' : 'T', 'ACC' : 'T', 'ACG' : 'T', 'ACT' : 'T',\n",
    "    'AAC' : 'N', 'AAT' : 'N', 'AAA' : 'K', 'AAG' : 'K',\n",
    "    'AGC' : 'S', 'AGT' : 'S', 'AGA' : 'R', 'AGG' : 'R',\n",
    "    'CTA' : 'L', 'CTC' : 'L', 'CTG' : 'L', 'CTT' : 'L',\n",
    "    'CCA' : 'P', 'CCC' : 'P', 'CCG' : 'P', 'CCT' : 'P',\n",
    "    'CAC' : 'H', 'CAT' : 'H', 'CAA' : 'Q', 'CAG' : 'Q',\n",
    "    'CGA' : 'R', 'CGC' : 'R', 'CGG' : 'R', 'CGT' : 'R',\n",
    "    'GTA' : 'V', 'GTC' : 'V', 'GTG' : 'V', 'GTT' : 'V',\n",
    "    'GCA' : 'A', 'GCC' : 'A', 'GCG' : 'A', 'GCT' : 'A',\n",
    "    'GAC' : 'D', 'GAT' : 'D', 'GAA' : 'E', 'GAG' : 'E',\n",
    "    'GGA' : 'G', 'GGC' : 'G', 'GGG' : 'G', 'GGT' : 'G',\n",
    "    'TCA' : 'S', 'TCC' : 'S', 'TCG' : 'S', 'TCT' : 'S',\n",
    "    'TTC' : 'F', 'TTT' : 'F', 'TTA' : 'L', 'TTG' : 'L',\n",
    "    'TAC' : 'Y', 'TAT' : 'Y', 'TAA' : '_', 'TAG' : '_',\n",
    "    'TGC' : 'C', 'TGT' : 'C', 'TGA' : '_', 'TGG' : 'W'\n",
    "    }\n",
    "    protein = \"\"\n",
    "    nowSeq = seq[0]\n",
    "\n",
    "    for idx in range(1, len(seq)):\n",
    "        if idx % 3 == 0:\n",
    "            protein += genetic_code[nowSeq]\n",
    "            nowSeq = ''\n",
    "        nowSeq += seq[idx]\n",
    "\n",
    "    return protein\n",
    "\n",
    "print(convert(seq[20:938]))\n",
    "\n",
    "    \n",
    "    "
   ]
  },
  {
   "cell_type": "code",
   "execution_count": null,
   "id": "6fa483ce-172f-4446-b1bc-63d4700f0882",
   "metadata": {},
   "outputs": [],
   "source": []
  }
 ],
 "metadata": {
  "kernelspec": {
   "display_name": "Python 3 (ipykernel)",
   "language": "python",
   "name": "python3"
  },
  "language_info": {
   "codemirror_mode": {
    "name": "ipython",
    "version": 3
   },
   "file_extension": ".py",
   "mimetype": "text/x-python",
   "name": "python",
   "nbconvert_exporter": "python",
   "pygments_lexer": "ipython3",
   "version": "3.12.4"
  }
 },
 "nbformat": 4,
 "nbformat_minor": 5
}
