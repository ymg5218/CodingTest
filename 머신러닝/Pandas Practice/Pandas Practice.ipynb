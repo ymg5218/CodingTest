{
 "cells": [
  {
   "cell_type": "code",
   "execution_count": 203,
   "id": "e71d4fbb-2554-44f3-82b1-e2e48208fb60",
   "metadata": {},
   "outputs": [],
   "source": [
    "import pandas as pd\n",
    "%matplotlib inline\n",
    "import matplotlib.pyplot as plt"
   ]
  },
  {
   "cell_type": "code",
   "execution_count": 13,
   "id": "ade847c8-06ba-41f0-b956-a12cda645ac2",
   "metadata": {},
   "outputs": [
    {
     "data": {
      "text/plain": [
       "0    7\n",
       "1    3\n",
       "2    5\n",
       "3    8\n",
       "dtype: int64"
      ]
     },
     "execution_count": 13,
     "metadata": {},
     "output_type": "execute_result"
    }
   ],
   "source": [
    "pd.Series([7, 3, 5, 8])"
   ]
  },
  {
   "cell_type": "code",
   "execution_count": 15,
   "id": "32fe2718-f006-4663-abf8-1b1d23812e60",
   "metadata": {},
   "outputs": [],
   "source": [
    "x = pd.Series([7, 3, 5, 8], index=['서울', '대전', '대구', '광주'])"
   ]
  },
  {
   "cell_type": "code",
   "execution_count": 19,
   "id": "c906021e-e14d-4474-b29f-43423d7c218b",
   "metadata": {},
   "outputs": [
    {
     "name": "stdout",
     "output_type": "stream",
     "text": [
      "서울    7\n",
      "대전    3\n",
      "대구    5\n",
      "광주    8\n",
      "dtype: int64\n"
     ]
    },
    {
     "data": {
      "text/plain": [
       "7"
      ]
     },
     "execution_count": 19,
     "metadata": {},
     "output_type": "execute_result"
    }
   ],
   "source": [
    "print(x)\n",
    "x['서울']"
   ]
  },
  {
   "cell_type": "code",
   "execution_count": 27,
   "id": "838452eb-6522-4adc-bfb9-9de484d71fa4",
   "metadata": {},
   "outputs": [
    {
     "data": {
      "text/plain": [
       "서울    7\n",
       "대구    5\n",
       "dtype: int64"
      ]
     },
     "execution_count": 27,
     "metadata": {},
     "output_type": "execute_result"
    }
   ],
   "source": [
    "x[['서울', '대구']]"
   ]
  },
  {
   "cell_type": "code",
   "execution_count": 31,
   "id": "0b3d8e61-181f-41a9-a397-02699aab0562",
   "metadata": {},
   "outputs": [
    {
     "data": {
      "text/plain": [
       "Index(['서울', '대전', '대구', '광주'], dtype='object')"
      ]
     },
     "execution_count": 31,
     "metadata": {},
     "output_type": "execute_result"
    }
   ],
   "source": [
    "x.index"
   ]
  },
  {
   "cell_type": "code",
   "execution_count": 33,
   "id": "fe4f4a73-e4ec-41d8-b89a-699cdadc736e",
   "metadata": {},
   "outputs": [
    {
     "data": {
      "text/plain": [
       "array([7, 3, 5, 8], dtype=int64)"
      ]
     },
     "execution_count": 33,
     "metadata": {},
     "output_type": "execute_result"
    }
   ],
   "source": [
    "x.values"
   ]
  },
  {
   "cell_type": "code",
   "execution_count": 49,
   "id": "d13a51e3-00a4-409f-a404-9ad93f54549c",
   "metadata": {},
   "outputs": [
    {
     "name": "stdout",
     "output_type": "stream",
     "text": [
      "['광주', '대구', '대전', '서울']\n",
      "[3, 5, 7, 8]\n"
     ]
    }
   ],
   "source": [
    "print(sorted(x.index))\n",
    "print(sorted(x.values))"
   ]
  },
  {
   "cell_type": "code",
   "execution_count": 57,
   "id": "2c7ae628-bedc-46de-8ca8-ed7b4202aaaf",
   "metadata": {},
   "outputs": [],
   "source": [
    "x = pd.Series([3, 8, 5, 9], index=['서울','대구','광주','부산'])\n",
    "y = pd.Series([4, 9, 1, 3], index=['대구', '대전', '서울','부산'])"
   ]
  },
  {
   "cell_type": "code",
   "execution_count": 59,
   "id": "5e226f24-24e0-45c3-ab29-821d57cbf354",
   "metadata": {},
   "outputs": [
    {
     "data": {
      "text/plain": [
       "광주     NaN\n",
       "대구    12.0\n",
       "대전     NaN\n",
       "부산    12.0\n",
       "서울     4.0\n",
       "dtype: float64"
      ]
     },
     "execution_count": 59,
     "metadata": {},
     "output_type": "execute_result"
    }
   ],
   "source": [
    "x+y"
   ]
  },
  {
   "cell_type": "code",
   "execution_count": 61,
   "id": "0ab811bc-c424-4b9d-beda-b7f77f86ecde",
   "metadata": {},
   "outputs": [
    {
     "name": "stdout",
     "output_type": "stream",
     "text": [
      "[1 3 2 4 5]\n"
     ]
    }
   ],
   "source": [
    "medal = [1, 3, 2, 4, 5, 1 ,3 ,2, 4]\n",
    "x = pd.Series(medal)\n",
    "print(pd.unique(x))"
   ]
  },
  {
   "cell_type": "code",
   "execution_count": 67,
   "id": "4ec5116f-aea8-4015-aae2-1dea33af842c",
   "metadata": {},
   "outputs": [
    {
     "data": {
      "text/plain": [
       "민규    26\n",
       "동규    25\n",
       "정연    21\n",
       "동현    27\n",
       "성원    28\n",
       "dtype: int64"
      ]
     },
     "execution_count": 67,
     "metadata": {},
     "output_type": "execute_result"
    }
   ],
   "source": [
    "age = {'민규' : 26, '동규' : 25, '정연' : 21, '동현' : 27, '성원' : 28}\n",
    "x = pd.Series(age)\n",
    "x"
   ]
  },
  {
   "cell_type": "code",
   "execution_count": 71,
   "id": "c9033c1a-c8e1-40f4-92ba-1316d6232d7f",
   "metadata": {},
   "outputs": [
    {
     "name": "stdout",
     "output_type": "stream",
     "text": [
      "0    a\n",
      "1    b\n",
      "2    c\n",
      "3    d\n",
      "4    e\n",
      "5    f\n",
      "6    g\n",
      "dtype: object\n"
     ]
    }
   ],
   "source": [
    "arr = ['a', 'b', 'c', 'd', 'e', 'f', 'g']\n",
    "pdArr = pd.Series(arr)\n",
    "print(pdArr)"
   ]
  },
  {
   "cell_type": "code",
   "execution_count": 73,
   "id": "38d566b0-aac2-40eb-8855-6fe275da5ad3",
   "metadata": {},
   "outputs": [
    {
     "name": "stdout",
     "output_type": "stream",
     "text": [
      "3    d\n",
      "4    e\n",
      "5    f\n",
      "dtype: object\n"
     ]
    }
   ],
   "source": [
    "a = pdArr[3:6]\n",
    "print(a)"
   ]
  },
  {
   "cell_type": "code",
   "execution_count": 77,
   "id": "ab3785cb-a6c3-4ee5-9157-06c3d8cae3a6",
   "metadata": {},
   "outputs": [
    {
     "name": "stdout",
     "output_type": "stream",
     "text": [
      "d\n"
     ]
    }
   ],
   "source": [
    "print(a[3])"
   ]
  },
  {
   "cell_type": "code",
   "execution_count": 85,
   "id": "5f8e48e8-4826-48eb-a75f-aad2818bb3ef",
   "metadata": {},
   "outputs": [
    {
     "data": {
      "text/html": [
       "<div>\n",
       "<style scoped>\n",
       "    .dataframe tbody tr th:only-of-type {\n",
       "        vertical-align: middle;\n",
       "    }\n",
       "\n",
       "    .dataframe tbody tr th {\n",
       "        vertical-align: top;\n",
       "    }\n",
       "\n",
       "    .dataframe thead th {\n",
       "        text-align: right;\n",
       "    }\n",
       "</style>\n",
       "<table border=\"1\" class=\"dataframe\">\n",
       "  <thead>\n",
       "    <tr style=\"text-align: right;\">\n",
       "      <th></th>\n",
       "      <th>name</th>\n",
       "      <th>height</th>\n",
       "      <th>age</th>\n",
       "    </tr>\n",
       "  </thead>\n",
       "  <tbody>\n",
       "    <tr>\n",
       "      <th>0</th>\n",
       "      <td>민규</td>\n",
       "      <td>168</td>\n",
       "      <td>26</td>\n",
       "    </tr>\n",
       "    <tr>\n",
       "      <th>1</th>\n",
       "      <td>동규</td>\n",
       "      <td>183</td>\n",
       "      <td>25</td>\n",
       "    </tr>\n",
       "    <tr>\n",
       "      <th>2</th>\n",
       "      <td>정연</td>\n",
       "      <td>156</td>\n",
       "      <td>21</td>\n",
       "    </tr>\n",
       "    <tr>\n",
       "      <th>3</th>\n",
       "      <td>동현</td>\n",
       "      <td>175</td>\n",
       "      <td>27</td>\n",
       "    </tr>\n",
       "  </tbody>\n",
       "</table>\n",
       "</div>"
      ],
      "text/plain": [
       "  name  height  age\n",
       "0   민규     168   26\n",
       "1   동규     183   25\n",
       "2   정연     156   21\n",
       "3   동현     175   27"
      ]
     },
     "execution_count": 85,
     "metadata": {},
     "output_type": "execute_result"
    }
   ],
   "source": [
    "data = {'age' : [26, 25, 21, 27],\n",
    "        'name' : ['민규', '동규', '정연', '동현'],\n",
    "        'height' : [168, 183, 156, 175]\n",
    "       }\n",
    "x = pd.DataFrame(data, columns=['name', 'height', 'age'])\n",
    "x"
   ]
  },
  {
   "cell_type": "code",
   "execution_count": 87,
   "id": "db6d5fc3-4e24-46a2-ba6d-75215dba1bdf",
   "metadata": {},
   "outputs": [
    {
     "data": {
      "text/plain": [
       "0    민규\n",
       "1    동규\n",
       "2    정연\n",
       "3    동현\n",
       "Name: name, dtype: object"
      ]
     },
     "execution_count": 87,
     "metadata": {},
     "output_type": "execute_result"
    }
   ],
   "source": [
    "x.name"
   ]
  },
  {
   "cell_type": "code",
   "execution_count": 89,
   "id": "905c0a3a-f834-4ae8-a3f3-cb54ed9ee0ef",
   "metadata": {},
   "outputs": [
    {
     "data": {
      "text/plain": [
       "name       동규\n",
       "height    183\n",
       "age        25\n",
       "Name: 1, dtype: object"
      ]
     },
     "execution_count": 89,
     "metadata": {},
     "output_type": "execute_result"
    }
   ],
   "source": [
    "x.iloc[1]"
   ]
  },
  {
   "cell_type": "code",
   "execution_count": 91,
   "id": "93502bca-4d64-4d91-8fed-9648b12a1ad3",
   "metadata": {},
   "outputs": [
    {
     "data": {
      "text/plain": [
       "RangeIndex(start=0, stop=4, step=1)"
      ]
     },
     "execution_count": 91,
     "metadata": {},
     "output_type": "execute_result"
    }
   ],
   "source": [
    "x.index"
   ]
  },
  {
   "cell_type": "code",
   "execution_count": 93,
   "id": "738c374a-c3bf-4809-b90f-45cebf854588",
   "metadata": {},
   "outputs": [
    {
     "data": {
      "text/plain": [
       "name       민규\n",
       "height    168\n",
       "age        26\n",
       "Name: 0, dtype: object"
      ]
     },
     "execution_count": 93,
     "metadata": {},
     "output_type": "execute_result"
    }
   ],
   "source": [
    "x.iloc[0]"
   ]
  },
  {
   "cell_type": "code",
   "execution_count": 99,
   "id": "f13342cc-d7a0-438d-b919-d04e62181445",
   "metadata": {},
   "outputs": [
    {
     "data": {
      "text/html": [
       "<div>\n",
       "<style scoped>\n",
       "    .dataframe tbody tr th:only-of-type {\n",
       "        vertical-align: middle;\n",
       "    }\n",
       "\n",
       "    .dataframe tbody tr th {\n",
       "        vertical-align: top;\n",
       "    }\n",
       "\n",
       "    .dataframe thead th {\n",
       "        text-align: right;\n",
       "    }\n",
       "</style>\n",
       "<table border=\"1\" class=\"dataframe\">\n",
       "  <thead>\n",
       "    <tr style=\"text-align: right;\">\n",
       "      <th></th>\n",
       "      <th>name</th>\n",
       "      <th>height</th>\n",
       "      <th>age</th>\n",
       "    </tr>\n",
       "  </thead>\n",
       "  <tbody>\n",
       "    <tr>\n",
       "      <th>0</th>\n",
       "      <td>민규</td>\n",
       "      <td>168</td>\n",
       "      <td>26</td>\n",
       "    </tr>\n",
       "    <tr>\n",
       "      <th>1</th>\n",
       "      <td>동규</td>\n",
       "      <td>183</td>\n",
       "      <td>25</td>\n",
       "    </tr>\n",
       "    <tr>\n",
       "      <th>2</th>\n",
       "      <td>정연</td>\n",
       "      <td>156</td>\n",
       "      <td>21</td>\n",
       "    </tr>\n",
       "    <tr>\n",
       "      <th>3</th>\n",
       "      <td>동현</td>\n",
       "      <td>175</td>\n",
       "      <td>27</td>\n",
       "    </tr>\n",
       "  </tbody>\n",
       "</table>\n",
       "</div>"
      ],
      "text/plain": [
       "  name  height  age\n",
       "0   민규     168   26\n",
       "1   동규     183   25\n",
       "2   정연     156   21\n",
       "3   동현     175   27"
      ]
     },
     "execution_count": 99,
     "metadata": {},
     "output_type": "execute_result"
    }
   ],
   "source": [
    "x.iloc[:]"
   ]
  },
  {
   "cell_type": "code",
   "execution_count": 101,
   "id": "ab438e7c-4470-49e5-9661-fde2214876d8",
   "metadata": {},
   "outputs": [
    {
     "data": {
      "text/html": [
       "<div>\n",
       "<style scoped>\n",
       "    .dataframe tbody tr th:only-of-type {\n",
       "        vertical-align: middle;\n",
       "    }\n",
       "\n",
       "    .dataframe tbody tr th {\n",
       "        vertical-align: top;\n",
       "    }\n",
       "\n",
       "    .dataframe thead th {\n",
       "        text-align: right;\n",
       "    }\n",
       "</style>\n",
       "<table border=\"1\" class=\"dataframe\">\n",
       "  <thead>\n",
       "    <tr style=\"text-align: right;\">\n",
       "      <th></th>\n",
       "      <th>name</th>\n",
       "      <th>height</th>\n",
       "      <th>age</th>\n",
       "    </tr>\n",
       "  </thead>\n",
       "  <tbody>\n",
       "    <tr>\n",
       "      <th>0</th>\n",
       "      <td>민규</td>\n",
       "      <td>168</td>\n",
       "      <td>26</td>\n",
       "    </tr>\n",
       "    <tr>\n",
       "      <th>1</th>\n",
       "      <td>동규</td>\n",
       "      <td>183</td>\n",
       "      <td>25</td>\n",
       "    </tr>\n",
       "  </tbody>\n",
       "</table>\n",
       "</div>"
      ],
      "text/plain": [
       "  name  height  age\n",
       "0   민규     168   26\n",
       "1   동규     183   25"
      ]
     },
     "execution_count": 101,
     "metadata": {},
     "output_type": "execute_result"
    }
   ],
   "source": [
    "x.iloc[:2]"
   ]
  },
  {
   "cell_type": "code",
   "execution_count": 103,
   "id": "134b0609-9db1-4971-8b7c-5023848b0816",
   "metadata": {},
   "outputs": [
    {
     "data": {
      "text/html": [
       "<div>\n",
       "<style scoped>\n",
       "    .dataframe tbody tr th:only-of-type {\n",
       "        vertical-align: middle;\n",
       "    }\n",
       "\n",
       "    .dataframe tbody tr th {\n",
       "        vertical-align: top;\n",
       "    }\n",
       "\n",
       "    .dataframe thead th {\n",
       "        text-align: right;\n",
       "    }\n",
       "</style>\n",
       "<table border=\"1\" class=\"dataframe\">\n",
       "  <thead>\n",
       "    <tr style=\"text-align: right;\">\n",
       "      <th></th>\n",
       "      <th>height</th>\n",
       "      <th>age</th>\n",
       "    </tr>\n",
       "  </thead>\n",
       "  <tbody>\n",
       "    <tr>\n",
       "      <th>0</th>\n",
       "      <td>168</td>\n",
       "      <td>26</td>\n",
       "    </tr>\n",
       "    <tr>\n",
       "      <th>1</th>\n",
       "      <td>183</td>\n",
       "      <td>25</td>\n",
       "    </tr>\n",
       "    <tr>\n",
       "      <th>2</th>\n",
       "      <td>156</td>\n",
       "      <td>21</td>\n",
       "    </tr>\n",
       "    <tr>\n",
       "      <th>3</th>\n",
       "      <td>175</td>\n",
       "      <td>27</td>\n",
       "    </tr>\n",
       "  </tbody>\n",
       "</table>\n",
       "</div>"
      ],
      "text/plain": [
       "   height  age\n",
       "0     168   26\n",
       "1     183   25\n",
       "2     156   21\n",
       "3     175   27"
      ]
     },
     "execution_count": 103,
     "metadata": {},
     "output_type": "execute_result"
    }
   ],
   "source": [
    "x.iloc[:, 1:3]"
   ]
  },
  {
   "cell_type": "code",
   "execution_count": 105,
   "id": "926e92d7-4a12-4cd4-987a-d0fb351afec2",
   "metadata": {},
   "outputs": [
    {
     "data": {
      "text/html": [
       "<div>\n",
       "<style scoped>\n",
       "    .dataframe tbody tr th:only-of-type {\n",
       "        vertical-align: middle;\n",
       "    }\n",
       "\n",
       "    .dataframe tbody tr th {\n",
       "        vertical-align: top;\n",
       "    }\n",
       "\n",
       "    .dataframe thead th {\n",
       "        text-align: right;\n",
       "    }\n",
       "</style>\n",
       "<table border=\"1\" class=\"dataframe\">\n",
       "  <thead>\n",
       "    <tr style=\"text-align: right;\">\n",
       "      <th></th>\n",
       "      <th>name</th>\n",
       "      <th>height</th>\n",
       "    </tr>\n",
       "  </thead>\n",
       "  <tbody>\n",
       "    <tr>\n",
       "      <th>0</th>\n",
       "      <td>민규</td>\n",
       "      <td>168</td>\n",
       "    </tr>\n",
       "    <tr>\n",
       "      <th>3</th>\n",
       "      <td>동현</td>\n",
       "      <td>175</td>\n",
       "    </tr>\n",
       "  </tbody>\n",
       "</table>\n",
       "</div>"
      ],
      "text/plain": [
       "  name  height\n",
       "0   민규     168\n",
       "3   동현     175"
      ]
     },
     "execution_count": 105,
     "metadata": {},
     "output_type": "execute_result"
    }
   ],
   "source": [
    "x.iloc[[0, 3],[0, 1]]"
   ]
  },
  {
   "cell_type": "code",
   "execution_count": 113,
   "id": "29611edf-cda1-44ad-afb1-cfee74624829",
   "metadata": {},
   "outputs": [
    {
     "data": {
      "text/html": [
       "<div>\n",
       "<style scoped>\n",
       "    .dataframe tbody tr th:only-of-type {\n",
       "        vertical-align: middle;\n",
       "    }\n",
       "\n",
       "    .dataframe tbody tr th {\n",
       "        vertical-align: top;\n",
       "    }\n",
       "\n",
       "    .dataframe thead th {\n",
       "        text-align: right;\n",
       "    }\n",
       "</style>\n",
       "<table border=\"1\" class=\"dataframe\">\n",
       "  <thead>\n",
       "    <tr style=\"text-align: right;\">\n",
       "      <th></th>\n",
       "      <th>name</th>\n",
       "      <th>height</th>\n",
       "      <th>age</th>\n",
       "    </tr>\n",
       "  </thead>\n",
       "  <tbody>\n",
       "    <tr>\n",
       "      <th>2</th>\n",
       "      <td>정연</td>\n",
       "      <td>156</td>\n",
       "      <td>21</td>\n",
       "    </tr>\n",
       "    <tr>\n",
       "      <th>3</th>\n",
       "      <td>동현</td>\n",
       "      <td>175</td>\n",
       "      <td>27</td>\n",
       "    </tr>\n",
       "  </tbody>\n",
       "</table>\n",
       "</div>"
      ],
      "text/plain": [
       "  name  height  age\n",
       "2   정연     156   21\n",
       "3   동현     175   27"
      ]
     },
     "execution_count": 113,
     "metadata": {},
     "output_type": "execute_result"
    }
   ],
   "source": [
    "x.tail(2)"
   ]
  },
  {
   "cell_type": "code",
   "execution_count": 117,
   "id": "24bc3b72-f1f1-4a45-b348-961baf879545",
   "metadata": {},
   "outputs": [
    {
     "data": {
      "text/html": [
       "<div>\n",
       "<style scoped>\n",
       "    .dataframe tbody tr th:only-of-type {\n",
       "        vertical-align: middle;\n",
       "    }\n",
       "\n",
       "    .dataframe tbody tr th {\n",
       "        vertical-align: top;\n",
       "    }\n",
       "\n",
       "    .dataframe thead th {\n",
       "        text-align: right;\n",
       "    }\n",
       "</style>\n",
       "<table border=\"1\" class=\"dataframe\">\n",
       "  <thead>\n",
       "    <tr style=\"text-align: right;\">\n",
       "      <th></th>\n",
       "      <th>name</th>\n",
       "      <th>height</th>\n",
       "      <th>age</th>\n",
       "    </tr>\n",
       "  </thead>\n",
       "  <tbody>\n",
       "    <tr>\n",
       "      <th>0</th>\n",
       "      <td>민규</td>\n",
       "      <td>168</td>\n",
       "      <td>26</td>\n",
       "    </tr>\n",
       "    <tr>\n",
       "      <th>3</th>\n",
       "      <td>동현</td>\n",
       "      <td>175</td>\n",
       "      <td>27</td>\n",
       "    </tr>\n",
       "  </tbody>\n",
       "</table>\n",
       "</div>"
      ],
      "text/plain": [
       "  name  height  age\n",
       "0   민규     168   26\n",
       "3   동현     175   27"
      ]
     },
     "execution_count": 117,
     "metadata": {},
     "output_type": "execute_result"
    }
   ],
   "source": [
    "bools = [True, False, False, True]\n",
    "x[bools]"
   ]
  },
  {
   "cell_type": "code",
   "execution_count": 127,
   "id": "0dac4ebe-5264-4b72-8d45-a7995388d189",
   "metadata": {},
   "outputs": [
    {
     "name": "stdout",
     "output_type": "stream",
     "text": [
      "24.75\n"
     ]
    }
   ],
   "source": [
    "print(x.age.mean(axis=0))"
   ]
  },
  {
   "cell_type": "code",
   "execution_count": 137,
   "id": "d0eec1a3-da3b-4df0-b9c9-b350f77a3135",
   "metadata": {},
   "outputs": [
    {
     "data": {
      "text/html": [
       "<div>\n",
       "<style scoped>\n",
       "    .dataframe tbody tr th:only-of-type {\n",
       "        vertical-align: middle;\n",
       "    }\n",
       "\n",
       "    .dataframe tbody tr th {\n",
       "        vertical-align: top;\n",
       "    }\n",
       "\n",
       "    .dataframe thead th {\n",
       "        text-align: right;\n",
       "    }\n",
       "</style>\n",
       "<table border=\"1\" class=\"dataframe\">\n",
       "  <thead>\n",
       "    <tr style=\"text-align: right;\">\n",
       "      <th></th>\n",
       "      <th>name</th>\n",
       "      <th>height</th>\n",
       "      <th>age</th>\n",
       "    </tr>\n",
       "  </thead>\n",
       "  <tbody>\n",
       "    <tr>\n",
       "      <th>0</th>\n",
       "      <td>민규</td>\n",
       "      <td>168.0</td>\n",
       "      <td>26</td>\n",
       "    </tr>\n",
       "    <tr>\n",
       "      <th>1</th>\n",
       "      <td>동규</td>\n",
       "      <td>183.0</td>\n",
       "      <td>25</td>\n",
       "    </tr>\n",
       "    <tr>\n",
       "      <th>2</th>\n",
       "      <td>정연</td>\n",
       "      <td>156.0</td>\n",
       "      <td>21</td>\n",
       "    </tr>\n",
       "    <tr>\n",
       "      <th>3</th>\n",
       "      <td>동현</td>\n",
       "      <td>175.0</td>\n",
       "      <td>27</td>\n",
       "    </tr>\n",
       "  </tbody>\n",
       "</table>\n",
       "</div>"
      ],
      "text/plain": [
       "  name  height  age\n",
       "0   민규   168.0   26\n",
       "1   동규   183.0   25\n",
       "2   정연   156.0   21\n",
       "3   동현   175.0   27"
      ]
     },
     "execution_count": 137,
     "metadata": {},
     "output_type": "execute_result"
    }
   ],
   "source": [
    "x['height'] = x['height'].astype('float')\n",
    "x['age'] = x['age'].astype('int')\n",
    "x"
   ]
  },
  {
   "cell_type": "code",
   "execution_count": 189,
   "id": "2a6d10c2-0001-4858-a8cf-ff4b2f732b62",
   "metadata": {},
   "outputs": [
    {
     "data": {
      "text/html": [
       "<div>\n",
       "<style scoped>\n",
       "    .dataframe tbody tr th:only-of-type {\n",
       "        vertical-align: middle;\n",
       "    }\n",
       "\n",
       "    .dataframe tbody tr th {\n",
       "        vertical-align: top;\n",
       "    }\n",
       "\n",
       "    .dataframe thead th {\n",
       "        text-align: right;\n",
       "    }\n",
       "</style>\n",
       "<table border=\"1\" class=\"dataframe\">\n",
       "  <thead>\n",
       "    <tr style=\"text-align: right;\">\n",
       "      <th></th>\n",
       "      <th>년도</th>\n",
       "      <th>급속충전기 보급 수량</th>\n",
       "      <th>설명</th>\n",
       "    </tr>\n",
       "  </thead>\n",
       "  <tbody>\n",
       "    <tr>\n",
       "      <th>0</th>\n",
       "      <td>2016</td>\n",
       "      <td>943</td>\n",
       "      <td>2016년이전 보급수 포함</td>\n",
       "    </tr>\n",
       "    <tr>\n",
       "      <th>1</th>\n",
       "      <td>2017</td>\n",
       "      <td>2441</td>\n",
       "      <td>2017년 단년도</td>\n",
       "    </tr>\n",
       "    <tr>\n",
       "      <th>2</th>\n",
       "      <td>2018</td>\n",
       "      <td>3317</td>\n",
       "      <td>2018년 단년도</td>\n",
       "    </tr>\n",
       "    <tr>\n",
       "      <th>3</th>\n",
       "      <td>2019</td>\n",
       "      <td>1208</td>\n",
       "      <td>2019년 단년도</td>\n",
       "    </tr>\n",
       "    <tr>\n",
       "      <th>4</th>\n",
       "      <td>2020</td>\n",
       "      <td>2521</td>\n",
       "      <td>2020년 단년도</td>\n",
       "    </tr>\n",
       "    <tr>\n",
       "      <th>5</th>\n",
       "      <td>2021</td>\n",
       "      <td>4839</td>\n",
       "      <td>2021년 단년도</td>\n",
       "    </tr>\n",
       "    <tr>\n",
       "      <th>6</th>\n",
       "      <td>2022</td>\n",
       "      <td>5670</td>\n",
       "      <td>2022년 단년도</td>\n",
       "    </tr>\n",
       "    <tr>\n",
       "      <th>7</th>\n",
       "      <td>2023</td>\n",
       "      <td>13649</td>\n",
       "      <td>2022년 단년도</td>\n",
       "    </tr>\n",
       "  </tbody>\n",
       "</table>\n",
       "</div>"
      ],
      "text/plain": [
       "     년도  급속충전기 보급 수량              설명\n",
       "0  2016          943  2016년이전 보급수 포함\n",
       "1  2017         2441       2017년 단년도\n",
       "2  2018         3317       2018년 단년도\n",
       "3  2019         1208       2019년 단년도\n",
       "4  2020         2521       2020년 단년도\n",
       "5  2021         4839       2021년 단년도\n",
       "6  2022         5670       2022년 단년도\n",
       "7  2023        13649       2022년 단년도"
      ]
     },
     "execution_count": 189,
     "metadata": {},
     "output_type": "execute_result"
    }
   ],
   "source": [
    "# -*-coding:utf-8 -*-\n",
    "data = pd.read_csv('./전기자동차 급속충전기 보급 현황_20231231.csv',engine='python', encoding='euc-kr')\n",
    "data"
   ]
  },
  {
   "cell_type": "code",
   "execution_count": 229,
   "id": "150fed28-ae28-4e01-aebe-bd460f7b67b1",
   "metadata": {},
   "outputs": [
    {
     "data": {
      "text/plain": [
       "Text(0, 0.5, 'cnt')"
      ]
     },
     "execution_count": 229,
     "metadata": {},
     "output_type": "execute_result"
    },
    {
     "data": {
      "image/png": "[encoded data removed]",
      "text/plain": [
       "<Figure size 640x480 with 1 Axes>"
      ]
     },
     "metadata": {},
     "output_type": "display_data"
    }
   ],
   "source": [
    "plt.plot(data['년도'], data['급속충전기 보급 수량'])\n",
    "plt.xlabel('year')\n",
    "plt.ylabel('cnt')"
   ]
  }
 ],
 "metadata": {
  "kernelspec": {
   "display_name": "Python 3 (ipykernel)",
   "language": "python",
   "name": "python3"
  },
  "language_info": {
   "codemirror_mode": {
    "name": "ipython",
    "version": 3
   },
   "file_extension": ".py",
   "mimetype": "text/x-python",
   "name": "python",
   "nbconvert_exporter": "python",
   "pygments_lexer": "ipython3",
   "version": "3.12.4"
  }
 },
 "nbformat": 4,
 "nbformat_minor": 5
}
