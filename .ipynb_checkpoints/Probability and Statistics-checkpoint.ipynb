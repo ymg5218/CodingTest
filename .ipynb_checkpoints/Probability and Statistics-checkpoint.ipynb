{
 "cells": [
  {
   "cell_type": "markdown",
   "id": "b2d57586-f9b7-47e3-bbd5-1845f9c60ee8",
   "metadata": {},
   "source": [
    "## 확통 계산용"
   ]
  },
  {
   "cell_type": "code",
   "execution_count": 2,
   "id": "d89749d1-c86e-4682-8c8a-293345e79a41",
   "metadata": {},
   "outputs": [],
   "source": [
    "import numpy as np"
   ]
  },
  {
   "cell_type": "code",
   "execution_count": 4,
   "id": "44d16dc0-6519-402d-9c56-58baf86f3b96",
   "metadata": {},
   "outputs": [],
   "source": [
    "low_levels = np.array([11.5, 12.2, 12.0, 12.4, 13.6, 10.5])\n",
    "high_levels = np.array([171, 164, 167, 156, 159, 164])"
   ]
  },
  {
   "cell_type": "code",
   "execution_count": 12,
   "id": "3622c1ba-4f5d-4fbd-9b71-2acff00ce2c1",
   "metadata": {},
   "outputs": [],
   "source": [
    "low_mean = low_levels.mean()\n",
    "high_mean = high_levels.mean()"
   ]
  },
  {
   "cell_type": "code",
   "execution_count": 20,
   "id": "13cfc78f-1220-48a5-905d-4383a2c0e40c",
   "metadata": {},
   "outputs": [
    {
     "name": "stdout",
     "output_type": "stream",
     "text": [
      "5.253333333333332\n"
     ]
    },
    {
     "data": {
      "text/plain": [
       "1.0506666666666664"
      ]
     },
     "execution_count": 20,
     "metadata": {},
     "output_type": "execute_result"
    }
   ],
   "source": [
    "temp = 0\n",
    "for idx in range(len(low_levels)):\n",
    "    temp += (low_levels[idx] - low_mean)**2\n",
    "low_S2 = (1 / (len(low_levels) - 1)) * temp\n",
    "low_S2"
   ]
  },
  {
   "cell_type": "code",
   "execution_count": null,
   "id": "7bc58b4a-fce2-459a-9e73-d8aa5973df8d",
   "metadata": {},
   "outputs": [],
   "source": []
  }
 ],
 "metadata": {
  "kernelspec": {
   "display_name": "Python 3 (ipykernel)",
   "language": "python",
   "name": "python3"
  },
  "language_info": {
   "codemirror_mode": {
    "name": "ipython",
    "version": 3
   },
   "file_extension": ".py",
   "mimetype": "text/x-python",
   "name": "python",
   "nbconvert_exporter": "python",
   "pygments_lexer": "ipython3",
   "version": "3.12.4"
  }
 },
 "nbformat": 4,
 "nbformat_minor": 5
}
