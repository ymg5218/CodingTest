{
 "cells": [
  {
   "cell_type": "markdown",
   "id": "b2d57586-f9b7-47e3-bbd5-1845f9c60ee8",
   "metadata": {},
   "source": [
    "## 확통 계산용"
   ]
  },
  {
   "cell_type": "code",
   "execution_count": 2,
   "id": "d89749d1-c86e-4682-8c8a-293345e79a41",
   "metadata": {},
   "outputs": [],
   "source": [
    "import numpy as np"
   ]
  },
  {
   "cell_type": "code",
   "execution_count": 4,
   "id": "44d16dc0-6519-402d-9c56-58baf86f3b96",
   "metadata": {},
   "outputs": [],
   "source": [
    "low_levels = np.array([11.5, 12.2, 12.0, 12.4, 13.6, 10.5])\n",
    "high_levels = np.array([171, 164, 167, 156, 159, 164])"
   ]
  },
  {
   "cell_type": "code",
   "execution_count": 28,
   "id": "3622c1ba-4f5d-4fbd-9b71-2acff00ce2c1",
   "metadata": {},
   "outputs": [
    {
     "name": "stdout",
     "output_type": "stream",
     "text": [
      "12.033333333333333\n",
      "163.5\n"
     ]
    }
   ],
   "source": [
    "low_mean = low_levels.mean()\n",
    "high_mean = high_levels.mean()\n",
    "print(low_mean)\n",
    "print(high_mean)"
   ]
  },
  {
   "cell_type": "code",
   "execution_count": 24,
   "id": "13cfc78f-1220-48a5-905d-4383a2c0e40c",
   "metadata": {},
   "outputs": [
    {
     "data": {
      "text/plain": [
       "1.0506666666666664"
      ]
     },
     "execution_count": 24,
     "metadata": {},
     "output_type": "execute_result"
    }
   ],
   "source": [
    "temp = 0\n",
    "for idx in range(len(low_levels)):\n",
    "    temp += (low_levels[idx] - low_mean)**2\n",
    "low_S2 = (1 / (len(low_levels) - 1)) * temp\n",
    "low_S2"
   ]
  },
  {
   "cell_type": "code",
   "execution_count": 22,
   "id": "7bc58b4a-fce2-459a-9e73-d8aa5973df8d",
   "metadata": {},
   "outputs": [
    {
     "data": {
      "text/plain": [
       "29.1"
      ]
     },
     "execution_count": 22,
     "metadata": {},
     "output_type": "execute_result"
    }
   ],
   "source": [
    "temp = 0\n",
    "for idx in range(len(high_levels)):\n",
    "    temp += (high_levels[idx] - high_mean)**2\n",
    "high_S2 = (1 / (len(high_levels) - 1)) * temp\n",
    "high_S2"
   ]
  },
  {
   "cell_type": "code",
   "execution_count": 30,
   "id": "1f8c7622-8280-4194-8f5c-be315daf5117",
   "metadata": {},
   "outputs": [
    {
     "name": "stdout",
     "output_type": "stream",
     "text": [
      "저소득층의 변동계수 CV는 8.518174445997815% 이다\n",
      "고소득층의 변동계수 CV는 3.2993526505837742% 이다\n"
     ]
    }
   ],
   "source": [
    "print(f'저소득층의 변동계수 CV는 {(low_S2**0.5 / low_mean) * 100}% 이다')\n",
    "print(f'고소득층의 변동계수 CV는 {(high_S2**0.5 / high_mean) * 100}% 이다')"
   ]
  },
  {
   "cell_type": "code",
   "execution_count": 50,
   "id": "ee4de4f1-91e7-46df-84e7-7c270a6b175f",
   "metadata": {},
   "outputs": [],
   "source": [
    "arr = [60, 64, 72, 80, 92, 64, 68, 72, 76, 80, 84, 76,88, 88, 92, 96, 88, 92, 76]\n",
    "arr.sort()\n",
    "minValue = min(arr)\n",
    "maxValue = max(arr)"
   ]
  },
  {
   "cell_type": "code",
   "execution_count": 52,
   "id": "baaaf0b5-4508-452e-8c70-f90b4d615e15",
   "metadata": {},
   "outputs": [
    {
     "data": {
      "text/plain": [
       "(5, 13)"
      ]
     },
     "execution_count": 52,
     "metadata": {},
     "output_type": "execute_result"
    }
   ],
   "source": [
    "length = len(arr)\n",
    "Q1 = length / 4 if length / 4 == length // 4 else length // 4 + 1\n",
    "Q3 = length / 4 * 3 if length / 4 * 3 == length // 4 * 3 else length // 4 * 3 + 1\n",
    "Q1, Q3"
   ]
  },
  {
   "cell_type": "code",
   "execution_count": 58,
   "id": "97ba6a36-cddd-43b4-b1d6-ee8b43f2b3d9",
   "metadata": {},
   "outputs": [
    {
     "data": {
      "text/plain": [
       "80"
      ]
     },
     "execution_count": 58,
     "metadata": {},
     "output_type": "execute_result"
    }
   ],
   "source": [
    "if length % 2 == 0:\n",
    "    Me = (arr[length//2] + arr[length//2 + 1]) / 2\n",
    "else:\n",
    "    Me = arr[length//2 + 1]\n",
    "Me"
   ]
  },
  {
   "cell_type": "code",
   "execution_count": 60,
   "id": "962878b8-3a6c-4c92-a79d-e62a3775afba",
   "metadata": {},
   "outputs": [
    {
     "name": "stdout",
     "output_type": "stream",
     "text": [
      "5점 요약 표시 : [(60, 72, 80, 88, 96)]\n"
     ]
    }
   ],
   "source": [
    "print(f'5점 요약 표시 : [{minValue, arr[Q1], Me, arr[Q3], maxValue}]')"
   ]
  }
 ],
 "metadata": {
  "kernelspec": {
   "display_name": "Python 3 (ipykernel)",
   "language": "python",
   "name": "python3"
  },
  "language_info": {
   "codemirror_mode": {
    "name": "ipython",
    "version": 3
   },
   "file_extension": ".py",
   "mimetype": "text/x-python",
   "name": "python",
   "nbconvert_exporter": "python",
   "pygments_lexer": "ipython3",
   "version": "3.12.4"
  }
 },
 "nbformat": 4,
 "nbformat_minor": 5
}
